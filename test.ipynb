{
 "cells": [
  {
   "cell_type": "code",
   "execution_count": null,
   "metadata": {},
   "outputs": [
    {
     "ename": "",
     "evalue": "",
     "output_type": "error",
     "traceback": [
      "\u001b[1;31m运行具有“.venv”的单元格需要ipykernel包。\n",
      "\u001b[1;31m运行以下命令，将 \"ipykernel\" 安装到 Python 环境中。\n",
      "\u001b[1;31m命令: \"/home/ChampSim/new/ChampSim/.venv/bin/python -m pip install ipykernel -U --force-reinstall\""
     ]
    }
   ],
   "source": [
    "import os\n",
    "import json\n",
    "import subprocess\n",
    "import itertools"
   ]
  },
  {
   "cell_type": "code",
   "execution_count": null,
   "metadata": {},
   "outputs": [],
   "source": [
    "i_prefechers = [\"no_instr\", \"next_line_instr\"]\n",
    "\n",
    "prefetchers = [ \"no\", \"spp_dev\", \"va_ampm_lite\", \"ip_stride\", \"next_line\"]\n",
    "\n",
    "replacements = [\"drrip\", \"lru\", \"ship\", \"srrip\"]"
   ]
  },
  {
   "cell_type": "code",
   "execution_count": null,
   "metadata": {},
   "outputs": [],
   "source": [
    "change_list = [\"L1D\", \"L2C\", \"LLC\"]"
   ]
  },
  {
   "cell_type": "code",
   "execution_count": null,
   "metadata": {},
   "outputs": [],
   "source": [
    "# TODO: 修改trace路径，使用绝对路径\n",
    "trace_path = \"/home/zzx/文档/ChampSim/traces/400.perlbench-41B.champsimtrace.xz\""
   ]
  },
  {
   "cell_type": "code",
   "execution_count": null,
   "metadata": {},
   "outputs": [],
   "source": [
    "# 备份一下\n",
    "os.system(\"cp champsim_config.json my_champsim_config.json\")"
   ]
  },
  {
   "cell_type": "code",
   "execution_count": null,
   "metadata": {},
   "outputs": [],
   "source": [
    "with open(\"my_champsim_config.json\", \"r\", encoding=\"utf-8\") as f:\n",
    "    config = json.load(f)"
   ]
  },
  {
   "cell_type": "code",
   "execution_count": null,
   "metadata": {},
   "outputs": [],
   "source": [
    "# config[\"L1I\"][\"replacement\"] = \"lru\""
   ]
  },
  {
   "cell_type": "code",
   "execution_count": null,
   "metadata": {},
   "outputs": [],
   "source": [
    "# with open(\"my_champsim_config.json\", \"w\", encoding=\"utf-8\") as f:\n",
    "#     json.dump(config, f, ensure_ascii=False, indent=4)"
   ]
  },
  {
   "cell_type": "code",
   "execution_count": null,
   "metadata": {},
   "outputs": [],
   "source": [
    "# os.system(\"./config.sh my_champsim_config.json\")"
   ]
  },
  {
   "cell_type": "code",
   "execution_count": null,
   "metadata": {},
   "outputs": [],
   "source": [
    "# os.system(\"make\")"
   ]
  },
  {
   "cell_type": "code",
   "execution_count": null,
   "metadata": {},
   "outputs": [],
   "source": [
    "# res = subprocess.getoutput(\"bin/champsim --warmup-instructions 10000000 --simulation-instructions 20000000 /home/zzx/文档/ChampSim/traces/400.perlbench-41B.champsimtrace.xz\")"
   ]
  },
  {
   "cell_type": "code",
   "execution_count": null,
   "metadata": {},
   "outputs": [],
   "source": [
    "# with open(\"results/test.log\", \"w+\", encoding=\"utf-8\") as f:\n",
    "    # f.write(res)"
   ]
  },
  {
   "cell_type": "code",
   "execution_count": null,
   "metadata": {},
   "outputs": [],
   "source": [
    "import signal\n",
    "\n",
    "class TimeOutException(BaseException):\n",
    "    pass\n",
    "\n",
    "def set_timeout(seconds):\n",
    "    signal.signal(signal.SIGALRM, timeout_hadler)\n",
    "    signal.alarm(seconds)\n",
    "\n",
    "def timeout_hadler(signum, frame):\n",
    "    raise TimeOutException(\"运行超时\")\n",
    "\n",
    "cannot_run = []"
   ]
  },
  {
   "cell_type": "code",
   "execution_count": null,
   "metadata": {},
   "outputs": [],
   "source": [
    "logs = sorted(os.listdir(\"results\"))\n",
    "logs = [dir for dir in logs if os.path.splitext(dir)[1] == '.log']\n",
    "falid_file = []\n",
    "for name in logs:\n",
    "    with open(\"results/\"+name, \"r\", encoding=\"utf-8\") as f:\n",
    "        data = f.readlines()\n",
    "    if len(data) == 0:\n",
    "        falid_file.append(name)"
   ]
  },
  {
   "cell_type": "code",
   "execution_count": null,
   "metadata": {},
   "outputs": [],
   "source": [
    "for name in falid_file:\n",
    "    ipref = name.split(\"-\")[0]\n",
    "    pref = name.split(\"-\")[1]\n",
    "    rep = name.split(\"-\")[2].replace(\".log\", \"\")\n",
    "    config[\"L1I\"][\"prefetcher\"] = ipref\n",
    "    config[\"L1I\"].pop(\"replacement\", None)\n",
    "    for i in change_list:\n",
    "        config[i][\"prefetcher\"] = pref\n",
    "        config[i].pop(\"replacement\", None)\n",
    "    config[i][\"replacement\"] = rep\n",
    "    \n",
    "    with open(\"my_champsim_config.json\", \"w\", encoding=\"utf-8\") as f:\n",
    "        json.dump(config, f, ensure_ascii=False, indent=4)\n",
    "    \n",
    "    res = os.system(\"./config.sh my_champsim_config.json\")\n",
    "    res = subprocess.getoutput(\"make\")\n",
    "    try:\n",
    "        # TODO: 设置运行超时时间，单位为秒，在我的电脑上运行一次需要3~4分钟，所以我这里将超时时间设置为6分钟\n",
    "        set_timeout(6 * 60)\n",
    "        # TODO: 下面的指令数也可以换成别的\n",
    "        res = subprocess.getoutput(f\"bin/champsim --warmup-instructions 10000000 --simulation-instructions 20000000 {trace_path}\")\n",
    "        signal.alarm(0)\n",
    "        print(f\"运行成功: {ipref} {pref} {rep}\")\n",
    "        with open(f\"results/{ipref}-{pref}-{rep}.log\", \"w+\", encoding=\"utf-8\") as f:\n",
    "            f.write(res)\n",
    "    except TimeOutException as e:\n",
    "        print(e, end='')\n",
    "        print(f\": {ipref} {pref} {rep}\")\n",
    "        cannot_run.append((ipref, pref, rep))\n",
    "        with open(f\"results/{ipref}-{pref}-{rep}.log\", \"w+\", encoding=\"utf-8\") as f:\n",
    "            pass"
   ]
  },
  {
   "cell_type": "markdown",
   "metadata": {},
   "source": [
    "在开始执行前最好先跑一遍默认配置，记录正常运行时间，修改下面的超时时间。"
   ]
  },
  {
   "cell_type": "code",
   "execution_count": null,
   "metadata": {},
   "outputs": [],
   "source": [
    "res_log_list = []\n",
    "if os.path.exists(\"results\"):\n",
    "    res_log_list = os.listdir(\"results\")\n",
    "    "
   ]
  },
  {
   "cell_type": "code",
   "execution_count": null,
   "metadata": {},
   "outputs": [],
   "source": [
    "for ipref, pref, rep in itertools.product(i_prefechers, prefetchers, replacements):\n",
    "    file_name = f\"{ipref}-{pref}-{rep}.log\"\n",
    "    if file_name in res_log_list:\n",
    "        print(\"已经存在\", f\": {ipref} {pref} {rep}\",sep='')\n",
    "        continue\n",
    "    config[\"L1I\"][\"prefetcher\"] = ipref\n",
    "    config[\"L1I\"][\"replacement\"] = rep\n",
    "    for i in change_list:\n",
    "        config[i][\"prefetcher\"] = pref\n",
    "        config[i][\"replacement\"] = rep\n",
    "    \n",
    "    with open(\"my_champsim_config.json\", \"w\", encoding=\"utf-8\") as f:\n",
    "        json.dump(config, f, ensure_ascii=False, indent=4)\n",
    "    \n",
    "    res = os.system(\"./config.sh my_champsim_config.json\")\n",
    "    res = subprocess.getoutput(\"make\")\n",
    "    try:\n",
    "        # TODO: 设置运行超时时间，单位为秒，在我的电脑上运行一次需要3~4分钟，所以我这里将超时时间设置为6分钟\n",
    "        set_timeout(6 * 60)\n",
    "        # TODO: 下面的指令数也可以换成别的\n",
    "        res = subprocess.getoutput(f\"bin/champsim --warmup-instructions 10000000 --simulation-instructions 20000000 {trace_path}\")\n",
    "        signal.alarm(0)\n",
    "        print(f\"运行成功: {ipref} {pref} {rep}\")\n",
    "        with open(f\"results/{ipref}-{pref}-{rep}.log\", \"w+\", encoding=\"utf-8\") as f:\n",
    "            f.write(res)\n",
    "    except TimeOutException as e:\n",
    "        print(e, end='')\n",
    "        print(f\": {ipref} {pref} {rep}\")\n",
    "        cannot_run.append((ipref, pref, rep))\n",
    "        with open(f\"results/{ipref}-{pref}-{rep}.log\", \"w+\", encoding=\"utf-8\") as f:\n",
    "            pass\n",
    "\n",
    "print(\"falied num: \",len(cannot_run))"
   ]
  },
  {
   "cell_type": "markdown",
   "metadata": {},
   "source": [
    "读取日志文件，收集相关信息"
   ]
  },
  {
   "cell_type": "code",
   "execution_count": null,
   "metadata": {},
   "outputs": [],
   "source": [
    "logs = sorted(os.listdir(\"results\"))\n",
    "logs = [dir for dir in logs if os.path.splitext(dir)[1] == '.log']"
   ]
  },
  {
   "cell_type": "code",
   "execution_count": null,
   "metadata": {},
   "outputs": [],
   "source": [
    "with open(\"results/\"+logs[21], \"r\", encoding=\"utf-8\") as f:\n",
    "    data = f.readlines()"
   ]
  },
  {
   "cell_type": "code",
   "execution_count": null,
   "metadata": {},
   "outputs": [],
   "source": [
    "for row in data:\n",
    "    if \"CPU 0 cumulative IPC:\" in row:\n",
    "        res = row.split()\n",
    "        print(\"IPC:\", res[4])\n",
    "    elif \"cpu0_L1D TOTAL\" in row:\n",
    "        res = row.split()\n",
    "        LLC_hit = int(res[5]) / int(res[3])\n",
    "        print(\"cpu0_L1D hitrate:\", LLC_hit)\n",
    "    elif \"cpu0_L1I TOTAL\" in row:\n",
    "        res = row.split()\n",
    "        LLC_hit = int(res[5]) / int(res[3])\n",
    "        print(\"cpu0_L1I hitrate:\", LLC_hit)\n",
    "    elif \"cpu0_L2C TOTAL\" in row:\n",
    "        res = row.split()\n",
    "        LLC_hit = int(res[5]) / int(res[3])\n",
    "        print(\"cpu0_L2C hitrate:\", LLC_hit)\n",
    "    elif \"LLC TOTAL\" in row:\n",
    "        res = row.split()\n",
    "        LLC_hit = int(res[5]) / int(res[3])\n",
    "        print(\"LLC hitrate:\", LLC_hit)"
   ]
  },
  {
   "cell_type": "code",
   "execution_count": null,
   "metadata": {},
   "outputs": [],
   "source": [
    "import csv\n",
    "all = []"
   ]
  },
  {
   "cell_type": "code",
   "execution_count": null,
   "metadata": {},
   "outputs": [],
   "source": [
    "for name in logs:\n",
    "    with open(\"results/\"+name, \"r\", encoding=\"utf-8\") as f:\n",
    "        data = f.readlines()\n",
    "    if len(data) == 0:\n",
    "        continue\n",
    "    info = {\"i_prefetcher\": name.split(\"-\")[0], \"prefetcher\": name.split(\"-\")[1], \"replacement\": name.split(\"-\")[2].replace(\".log\", \"\")}\n",
    "    for row in data:\n",
    "        if \"CPU 0 cumulative IPC:\" in row:\n",
    "            res = row.split()\n",
    "            # print(\"IPC:\", res[4])\n",
    "            info[\"IPC\"] = res[4]\n",
    "        elif \"cpu0_L1D TOTAL\" in row:\n",
    "            res = row.split()\n",
    "            LLC_hit = int(res[5]) / int(res[3])\n",
    "            # print(\"cpu0_L1D hitrate:\", LLC_hit)\n",
    "            info[\"L1D\"] = \"{:.2f}\".format(LLC_hit * 100)\n",
    "        elif \"cpu0_L1I TOTAL\" in row:\n",
    "            res = row.split()\n",
    "            LLC_hit = int(res[5]) / int(res[3])\n",
    "            # print(\"cpu0_L1I hitrate:\", LLC_hit)\n",
    "            info[\"L1I\"] = \"{:.2f}\".format(LLC_hit * 100)\n",
    "        elif \"cpu0_L2C TOTAL\" in row:\n",
    "            res = row.split()\n",
    "            LLC_hit = int(res[5]) / int(res[3])\n",
    "            # print(\"cpu0_L2C hitrate:\", LLC_hit)\n",
    "            info[\"L2C\"] = \"{:.2f}\".format(LLC_hit * 100)\n",
    "        elif \"LLC TOTAL\" in row:\n",
    "            res = row.split()\n",
    "            LLC_hit = int(res[5]) / int(res[3])\n",
    "            # print(\"LLC hitrate:\", LLC_hit)\n",
    "            info[\"LLC\"] = \"{:.2f}\".format(LLC_hit * 100)\n",
    "    all.append(info)"
   ]
  },
  {
   "cell_type": "code",
   "execution_count": null,
   "metadata": {},
   "outputs": [],
   "source": [
    "with open(\"results/data.csv\", \"w+\", encoding=\"utf-8\", newline=\"\") as f:\n",
    "    csv_writer = csv.writer(f)\n",
    "    csv_writer.writerow([\"L1I prefetcher\", \"prefetcher\", \"replacement\", \"IPC\", \"L1D\", \"L1I\", \"L2C\", \"LLC\"])\n",
    "    for info in all:\n",
    "        csv_writer.writerow([info[\"i_prefetcher\"], info[\"prefetcher\"], info[\"replacement\"],info[\"IPC\"],info[\"L1D\"],info[\"L1I\"],info[\"L2C\"],info[\"LLC\"]])"
   ]
  },
  {
   "cell_type": "code",
   "execution_count": null,
   "metadata": {},
   "outputs": [],
   "source": [
    "header = [\"L1I预取策略\", \"预取策略\", \"替换策略\", \"IPC\", \"L1D\", \"L1I\", \"L2C\", \"LLC\"]\n",
    "print(\"| \", end='')\n",
    "for i in header:\n",
    "    print(i, \"| \", end='')\n",
    "print(\"\")\n",
    "print(\"|\", end='')\n",
    "for i in range(len(header)):\n",
    "    print(\"----|\",end='')\n",
    "print(\"\")\n",
    "for info in all:\n",
    "    row = [info[\"i_prefetcher\"], info[\"prefetcher\"], info[\"replacement\"],info[\"IPC\"],info[\"L1D\"],info[\"L1I\"],info[\"L2C\"],info[\"LLC\"]]\n",
    "    print(\"| \", end='')\n",
    "    for i in row:\n",
    "        print(i, \"| \", end='')\n",
    "    print(\"\")"
   ]
  },
  {
   "cell_type": "markdown",
   "metadata": {},
   "source": [
    "将markdown表格形式写入文件"
   ]
  },
  {
   "cell_type": "code",
   "execution_count": null,
   "metadata": {},
   "outputs": [],
   "source": [
    "with open(\"results/res.md\", \"w+\", encoding=\"utf-8\") as f:\n",
    "    print(\"| \", end='', file=f)\n",
    "    for i in header:\n",
    "        print(i, \"| \", end='', file=f)\n",
    "    print(\"\", file=f)\n",
    "    print(\"|\", end='', file=f)\n",
    "    for i in range(len(header)):\n",
    "        print(\"----|\",end='', file=f)\n",
    "    print(\"\", file=f)\n",
    "    for info in all:\n",
    "        row = [info[\"i_prefetcher\"], info[\"prefetcher\"], info[\"replacement\"],info[\"IPC\"],info[\"L1D\"],info[\"L1I\"],info[\"L2C\"],info[\"LLC\"]]\n",
    "        print(\"| \", end='', file=f)\n",
    "        for i in row:\n",
    "            print(i, \"| \", end='', file=f)\n",
    "        print(\"\", file=f)"
   ]
  }
 ],
 "metadata": {
  "kernelspec": {
   "display_name": "Python 3",
   "language": "python",
   "name": "python3"
  },
  "language_info": {
   "codemirror_mode": {
    "name": "ipython",
    "version": 3
   },
   "file_extension": ".py",
   "mimetype": "text/x-python",
   "name": "python",
   "nbconvert_exporter": "python",
   "pygments_lexer": "ipython3",
   "version": "3.9.13"
  }
 },
 "nbformat": 4,
 "nbformat_minor": 2
}
